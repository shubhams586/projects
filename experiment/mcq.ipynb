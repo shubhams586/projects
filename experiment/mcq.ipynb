{
 "cells": [
  {
   "cell_type": "markdown",
   "id": "38ac55bd",
   "metadata": {},
   "source": []
  }
 ],
 "metadata": {
  "kernelspec": {
   "display_name": "Python 3",
   "language": "python",
   "name": "python3"
  },
  "language_info": {
   "name": "python",
   "version": "3.12.7"
  }
 },
 "nbformat": 4,
 "nbformat_minor": 5
}
